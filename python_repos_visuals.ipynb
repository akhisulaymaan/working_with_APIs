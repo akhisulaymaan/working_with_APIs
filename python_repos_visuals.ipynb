{
 "cells": [
  {
   "cell_type": "markdown",
   "metadata": {},
   "source": [
    "# Visualizing Repositories Using Plotly\n",
    "Let’s make a visualization using the data we’ve gathered to show the rela-tive popularity of Python projects on GitHub. We’ll make an interactive bar chart: the height of each bar will represent the number of stars the project has acquired, and you’ll be able to click the bar’s label to go to that project’s home on GitHub.\n"
   ]
  },
  {
   "cell_type": "code",
   "execution_count": null,
   "metadata": {},
   "outputs": [],
   "source": [
    "import requests\n",
    "import plotly.express as px\n",
    "\n",
    "# Make an API call and check the response\n",
    "url = \"https://api.github.com/search/repositories\"\n",
    "url += \"?q=language:python+sort:stars+stars:>10000\"\n",
    "headers = {\"Accept\": \"application/vnd.github.v3+json\"}\n",
    "r = requests.get(url, headers=headers)\n",
    "print(f\"Status code: {r.status_code}\")\n",
    "\n",
    "# Process overall results\n",
    "response_dict = r.json()\n",
    "print(f\"Complete results: {not response_dict['incomplete_results']}\")\n",
    "\n",
    "# Process repository information\n",
    "repo_dicts = response_dict['items']\n",
    "repo_names, stars = [], []\n",
    "for repo_dict in repo_dicts:\n",
    "    repo_names.append(repo_dict['name'])    \n",
    "    stars.append(repo_dict['stargazers_count'])\n",
    "    \n",
    "# Make visualization.\n",
    "fig = px.bar(x=repo_names, y=stars)\n",
    "fig.show()"
   ]
  },
  {
   "cell_type": "markdown",
   "metadata": {},
   "source": [
    "# Styling the Chart\n",
    "Plotly supports a number of ways to style and customize the plots, once you know the information in the plot is correct. We’ll make some changes in the initial px.bar() call and then make some further adjustments to the fig object after it’s been created"
   ]
  },
  {
   "cell_type": "code",
   "execution_count": null,
   "metadata": {},
   "outputs": [],
   "source": [
    "# Make visualization\n",
    "title = \"Most-Starred Python Projects on GitHub\"\n",
    "labels = {'x': 'Repository', 'y': 'Stars'}\n",
    "fig = px.bar(x=repo_names, y=stars, title=title, labels=labels)\n",
    "fig.update_layout(title_font_size=28, xaxis_title_font_size=20,\n",
    "                  yaxis_title_font_size=20)\n",
    "fig.show()"
   ]
  },
  {
   "cell_type": "markdown",
   "metadata": {},
   "source": [
    "# Adding Custom Tooltips\n",
    "In Plotly, you can hover the cursor over an individual bar to show the infor-mation the bar represents. This is commonly called a tooltip, and in this case, it currently shows the number of stars a project has. Let’s create a cus-tom tooltip to show each project’s description as well as the project’s owner."
   ]
  },
  {
   "cell_type": "code",
   "execution_count": null,
   "metadata": {},
   "outputs": [],
   "source": [
    "# Process repository information.repo_dicts = response_dict['items']\n",
    "repo_names, stars, hover_texts = [], [], []\n",
    "for repo_dict in repo_dicts:\n",
    "    repo_names.append(repo_dict['name'])\n",
    "    stars.append(repo_dict['stargazers_count'])\n",
    "\n",
    "# Build hover texts.\n",
    "    owner = repo_dict['owner']['login']\n",
    "    description = repo_dict['description']\n",
    "    hover_text = f\"{owner}<br />{description}\"\n",
    "    hover_texts.append(hover_text)\n",
    "\n",
    "# Make visualization\n",
    "title = \"Most-Starred Python Projects on GitHub\"\n",
    "labels = {'x': 'Repository', 'y': 'Stars'}\n",
    "fig = px.bar(x=repo_names, y=stars, title=title, labels=labels,\n",
    "            hover_name=hover_texts)\n",
    "fig.update_layout(title_font_size=28, xaxis_title_font_size=20,\n",
    "                  yaxis_title_font_size=20)\n",
    "\n",
    "fig.show()"
   ]
  },
  {
   "cell_type": "markdown",
   "metadata": {},
   "source": [
    "# Adding Clickable Links\n",
    "Because Plotly allows you to use HTML on text elements, we can easily add links to a chart. Let’s use the x-axis labels as a way to let the viewer visit any project’s home page on GitHub. We need to pull the URLs from the data and use them when generating the x-axis labels"
   ]
  },
  {
   "cell_type": "code",
   "execution_count": null,
   "metadata": {},
   "outputs": [],
   "source": [
    "# Process repository information.repo_dicts = response_dict['items']\n",
    "repo_links, stars, hover_texts = [], [], []\n",
    "for repo_dict in repo_dicts:    \n",
    "    # Turn repo names into active links.   \n",
    "    repo_name = repo_dict['name']\n",
    "    repo_url = repo_dict['html_url']\n",
    "    repo_link = f\"<a href='{repo_url}'>{repo_name}</a>\"\n",
    "    repo_links.append(repo_link)    \n",
    "    stars.append(repo_dict['stargazers_count'])\n",
    "# Make visualization.\n",
    "title = \"Most-Starred Python Projects on GitHub\"\n",
    "labels = {'x': 'Repository', 'y': 'Stars'}\n",
    "fig = px.bar(x=repo_links, y=stars, title=title, labels=labels, hover_name=hover_texts)\n",
    "fig.update_layout(title_font_size=28, xaxis_title_font_size=20, yaxis_title_font_size=20)\n",
    "fig.show()"
   ]
  },
  {
   "cell_type": "markdown",
   "metadata": {},
   "source": [
    "# Customizing Marker Colors\n",
    "Once a chart has been created, almost any aspect of the chart can be cus-tomized through an update method. We’ve used the update_layout() method previously. Another method, update_traces(), can be used to customize the data that’s represented on a chart."
   ]
  },
  {
   "cell_type": "code",
   "execution_count": null,
   "metadata": {},
   "outputs": [],
   "source": [
    "fig.update_layout(title_font_size=28, xaxis_title_font_size=20,        yaxis_title_font_size=20)\n",
    "fig.update_traces(marker_color='SteelBlue', marker_opacity=0.6)\n",
    "fig.show()"
   ]
  }
 ],
 "metadata": {
  "kernelspec": {
   "display_name": "Python 3",
   "language": "python",
   "name": "python3"
  },
  "language_info": {
   "codemirror_mode": {
    "name": "ipython",
    "version": 3
   },
   "file_extension": ".py",
   "mimetype": "text/x-python",
   "name": "python",
   "nbconvert_exporter": "python",
   "pygments_lexer": "ipython3",
   "version": "3.12.6"
  }
 },
 "nbformat": 4,
 "nbformat_minor": 2
}
